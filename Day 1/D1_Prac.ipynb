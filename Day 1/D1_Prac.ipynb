{
 "cells": [
  {
   "cell_type": "markdown",
   "metadata": {
    "id": "rze_pEwkFjKU"
   },
   "source": [
    "# Exploring seismic stations in Antarctica\n",
    "\n",
    "[![Open In Colab](https://img.shields.io/badge/open%20in-Colab-b5e2fa?logo=googlecolab&style=flat-square&color=ffd670)](https://colab.research.google.com/github/tsonpham/ObsSeisHUS2025/blob/master/Day1/D1_Prac.ipynb)\n",
    "\n",
    "Prepared by Thanh-Son Pham (thanhson.pham@anu.edu.au), April 2025."
   ]
  },
  {
   "cell_type": "markdown",
   "metadata": {
    "id": "w0zOwXXcjaaL"
   },
   "source": [
    "---\n",
    "## What we do in this notebook:\n",
    "- Learn Jupyter notebook and google colab server\n",
    "- Plot geographical maps and geoscientific data\n",
    "- Download station/earthquake metadata from remote servers\n",
    "\n",
    "Similar to the in-class excercise, here we practise the mapping skils by exploring the network of passive seismometers in Antarctica."
   ]
  },
  {
   "cell_type": "code",
   "execution_count": null,
   "metadata": {
    "colab": {
     "base_uri": "https://localhost:8080/"
    },
    "executionInfo": {
     "elapsed": 8083,
     "status": "ok",
     "timestamp": 1744857938584,
     "user": {
      "displayName": "Thanh Son Pham",
      "userId": "17941529104681711853"
     },
     "user_tz": -420
    },
    "id": "1pebMM-njaaN",
    "outputId": "2a0e6e6a-d56d-4751-ed7b-1ce283d36c1c"
   },
   "outputs": [],
   "source": [
    "# set up colab environment - uncomment the next line if running in colab\n",
    "\n",
    "# !pip install basemap obspy basemap-data-hires rasterio gdown"
   ]
  },
  {
   "cell_type": "code",
   "execution_count": null,
   "metadata": {
    "executionInfo": {
     "elapsed": 15,
     "status": "ok",
     "timestamp": 1744857938601,
     "user": {
      "displayName": "Thanh Son Pham",
      "userId": "17941529104681711853"
     },
     "user_tz": -420
    },
    "id": "qSWd-iP0jaaO"
   },
   "outputs": [],
   "source": [
    "#@title Run to activate retina display\n",
    "\n",
    "%config InlineBackend.figure_format = \"retina\"\n",
    "from matplotlib import rcParams\n",
    "\n",
    "rcParams[\"savefig.dpi\"] = 100\n",
    "rcParams[\"figure.dpi\"] = 100\n",
    "rcParams[\"font.size\"] = 10"
   ]
  },
  {
   "cell_type": "markdown",
   "metadata": {
    "id": "9Z70qin1Ffdt"
   },
   "source": [
    "---\n",
    "## Fetch station metadata from IRIS server\n",
    "\n",
    "First, we query the all stations available below 60° south from 2000 to now from the IRIS Data Management Center (https://ds.iris.edu/ds/nodes/dmc/). Most certainly that these retrieved stations are in Antarctica because it is the only landmark beyond 60° south."
   ]
  },
  {
   "cell_type": "code",
   "execution_count": null,
   "metadata": {
    "colab": {
     "base_uri": "https://localhost:8080/"
    },
    "executionInfo": {
     "elapsed": 5391,
     "status": "ok",
     "timestamp": 1744857943997,
     "user": {
      "displayName": "Thanh Son Pham",
      "userId": "17941529104681711853"
     },
     "user_tz": -420
    },
    "id": "c28eRnyqjaaP",
    "outputId": "e5ff64ad-d2c6-4044-eb72-038944b995ab"
   },
   "outputs": [],
   "source": [
    "from obspy import UTCDateTime\n",
    "from obspy.clients.fdsn import Client\n",
    "\n",
    "## Client connected to the IRIS Data Management Center\n",
    "iris = Client(\"IRIS\")\n",
    "\n",
    "## Get all stations south of 60 degrees latitude\n",
    "inv = iris.get_stations(minlatitude=-90, maxlatitude=-60, minlongitude=-180, maxlongitude=180, starttime=UTCDateTime(2000,1,1))\n",
    "\n",
    "## For convenience, you can also use the virtual network code \"_ANTARCTICA\" to get all stations in the Antarctic virtual network.\n",
    "# inv = iris.get_stations(network=\"_ANTARCTICA\", starttime=UTCDateTime(2000,1,1))\n",
    "\n",
    "## Print the%config matplotlib.inline = 'retina' inventory to check the contents\n",
    "for net in inv:\n",
    "    print (f\"{net.code} | {net.start_date.date} to {'present' if net.end_date is None  else net.end_date.date}: {net.description}\")"
   ]
  },
  {
   "cell_type": "markdown",
   "metadata": {
    "id": "6Ryma9o5jaaQ"
   },
   "source": [
    "---\n",
    "## Plot Antarctica map with the high latitude stereographic projection\n",
    "\n",
    "Stereographic [projection](https://matplotlib.org/basemap/stable/users/stere.html) is a conformal projection which is suitable for regional map at high latitudes. Polar steoreographic [projections](https://matplotlib.org/basemap/stable/users/pstere.html), including north pole and south pole stereoprojections are convenient way to plot maps of the polar regions."
   ]
  },
  {
   "cell_type": "code",
   "execution_count": null,
   "metadata": {
    "colab": {
     "base_uri": "https://localhost:8080/",
     "height": 406
    },
    "executionInfo": {
     "elapsed": 2423,
     "status": "ok",
     "timestamp": 1744857946419,
     "user": {
      "displayName": "Thanh Son Pham",
      "userId": "17941529104681711853"
     },
     "user_tz": -420
    },
    "id": "ikwZYM1mjaaR",
    "outputId": "1a515d75-fbfb-4142-898d-e84073dbd4fc"
   },
   "outputs": [],
   "source": [
    "# import a general plotting library\n",
    "import matplotlib.pyplot as plt\n",
    "# import basemap toolkit for geographic plotting\n",
    "from mpl_toolkits.basemap import Basemap\n",
    "\n",
    "## Create a map of the Antarctic region at low resolution.\n",
    "# The resolution can be set to 'c' for crude, 'i' for intermediate, 'h' for high resolution\n",
    "# If an error with 'i' or 'h', you probably need to install `pip install geographiclib`\n",
    "m = Basemap(projection='spstere', boundinglat=-65, lon_0=180, resolution='l')\n",
    "\n",
    "## Draw the Antarctic coastline, whose level of details depends on the resolution parameter above.\n",
    "m.drawcoastlines()\n",
    "\n",
    "## Draw the latitude and longitude grid\n",
    "# m.drawparallels(range(-90, -60, 5), labels=[0,0,0,0], maxlat=-89) # Draw the latitude grid every 5 degrees\n",
    "# m.drawmeridians(range(-180, 180, 30), labels=[0,0,0,0], maxlat=-89) # Draw the longitude grid every 30 degrees\n",
    "\n",
    "## Plot the location of the stations in the inventory\n",
    "# To do this, first we need to collect the latitude and longitude of all stations into two lists\n",
    "stlo = []\n",
    "stla = []\n",
    "for net in inv:\n",
    "    for sta in net:\n",
    "        stlo.append(sta.longitude)\n",
    "        stla.append(sta.latitude)\n",
    "# Then we plot the stations on the map using the plot() function with `latlon=True` to indicate that the coordinates are in latitude and longitude\n",
    "m.plot(stlo, stla, 'bv', latlon=True, mec='k', mew=0.2) # 'bv' means blue color, triangle shape\n",
    "\n",
    "## Show the map\n",
    "plt.show()"
   ]
  },
  {
   "cell_type": "markdown",
   "metadata": {
    "id": "kzB3xu0LjaaS"
   },
   "source": [
    "Now, we want to make the map more informative by denoting significant networks with markers of different shapes and colors."
   ]
  },
  {
   "cell_type": "code",
   "execution_count": null,
   "metadata": {
    "colab": {
     "base_uri": "https://localhost:8080/",
     "height": 406
    },
    "executionInfo": {
     "elapsed": 1654,
     "status": "ok",
     "timestamp": 1744857948074,
     "user": {
      "displayName": "Thanh Son Pham",
      "userId": "17941529104681711853"
     },
     "user_tz": -420
    },
    "id": "NdPB5s_sjaaS",
    "outputId": "827cc976-f222-4379-d5ac-87a7b9a2b68d"
   },
   "outputs": [],
   "source": [
    "## Define a tuple of major networks' abbreviations\n",
    "networks = [\n",
    "    'TAMSEIS', # A Broadband Seismic Investigation of Deep Continental Structure Across the East-West Antarctic Boundary\n",
    "    'GAMSEIS', # A Broadband Seismic Experiment to Image the Lithosphere beneath the Gamburtsev Mountains, East Antarctica\n",
    "    'TAMNNET', # Transantarctic Mountains Northern Network\n",
    "    'POLENET', #IPY POLENET-Antarctica: Investigating links between geodynamics and ice sheets\n",
    "    'UKANET', # UKANET: UK Antarctic Network\n",
    "    'RIS' # Collaborative Research: Collaborative Research: Dynamic Response of the Ross Ice Shelf to Ocean Waves and Structure and Dynamics of the Ross Sea from a Passive Seismic Deployment on the Ross Ice Shelf (Ross Ice Shelf (RIS))\n",
    "]\n",
    "\n",
    "markers = ['bv', 'g^', 'ro', 'cs', 'mD', 'yP']\n",
    "\n",
    "## Create a map of the Antarctic region at low resolution.\n",
    "m = Basemap(projection='spstere', boundinglat=-60, lon_0=180, resolution='l')\n",
    "## Draw the Antarctic coastline, whose level of details depends on the resolution parameter above.\n",
    "m.drawcoastlines()\n",
    "## Plot the location of the stations in the inventory\n",
    "for net in inv:\n",
    "    # Collect station geographical coordinates\n",
    "    stla = [sta.latitude for sta in net]\n",
    "    stlo = [sta.longitude for sta in net]\n",
    "    # Check if the network is in the list of major networks\n",
    "    for ii, network in enumerate(networks):\n",
    "        if f\"({network})\" in net.description:\n",
    "            m.plot(stlo, stla, markers[ii], latlon=True, mec='k', mew=0.2,\n",
    "                    label=f\"{network} ({net.start_date.year}$-${net.end_date.year})\")\n",
    "            break\n",
    "        # else:\n",
    "        #     m.plot(stlo, stla, 'o', c='gray', latlon=True, mec='k', mew=0.2, label=\"Other Networks\")\n",
    "## Add a legend outside the plot area\n",
    "handles, labels = plt.gca().get_legend_handles_labels()\n",
    "by_label = dict(zip(labels, handles))\n",
    "plt.legend(by_label.values(), by_label.keys(), loc='upper right', fontsize='x-small')\n",
    "\n",
    "## Show the map\n",
    "plt.show()"
   ]
  },
  {
   "cell_type": "markdown",
   "metadata": {
    "id": "bjQps2GNjaaT"
   },
   "source": [
    "---\n",
    "## Map with custom background"
   ]
  },
  {
   "cell_type": "markdown",
   "metadata": {
    "id": "2i85trU1jaaT"
   },
   "source": [
    "So far, we have been ploting locations of seismic stations or earthquakes on a map. Here, we will look at ways to plot gridded data as the map background.\n",
    "\n",
    "In preparation for the plot, we download an open dataset of ice thickness in Antarctica."
   ]
  },
  {
   "cell_type": "code",
   "execution_count": null,
   "metadata": {
    "colab": {
     "base_uri": "https://localhost:8080/"
    },
    "executionInfo": {
     "elapsed": 8002,
     "status": "ok",
     "timestamp": 1744857956079,
     "user": {
      "displayName": "Thanh Son Pham",
      "userId": "17941529104681711853"
     },
     "user_tz": -420
    },
    "id": "hPb4R6-rjaaT",
    "outputId": "7f5d8b6d-2685-47f1-fb5b-e5ac3572966c"
   },
   "outputs": [],
   "source": [
    "import gdown, zipfile\n",
    "from pathlib import Path\n",
    "## Download the Bedmap2 datasets in GeoTIFF format from Google Drive using gdown\n",
    "url = \"https://drive.google.com/uc?id=1ATA4rtPqOGxThPpw-DoOP6BeIRXpKzRo\"\n",
    "if not Path('bedmap2_datasets.zip').exists():\n",
    "    gdown.download(url, 'bedmap2_datasets.zip', quiet=False)\n",
    "## Unzip the downloaded file\n",
    "if not Path('bedmap2_datasets').exists():\n",
    "    with zipfile.ZipFile('bedmap2_datasets.zip', 'r') as f:\n",
    "        f.extractall('.')"
   ]
  },
  {
   "cell_type": "markdown",
   "metadata": {
    "id": "betjm86KjaaT"
   },
   "source": [
    "    Each dataset is projected in Antarctic Polar Stereographic projection, latitude of true scale -71 degrees south, datum WGS84.\n",
    "    All heights are in metres relative to sea level as defined by the g104c geoid.\n",
    "\n",
    "    The grid dimensions are 6667 x 6667 cells and the extent is:\n",
    "    Top: 3333500\n",
    "    Left: -3333500\n",
    "    Right: 3333500\n",
    "    Bottom: -3333500\n",
    "\n",
    "    The bedmap2 grid spacing is 1000 m.\n",
    "\n",
    "The following function read geoscientific data in geotiff format into numpy array. `lon` and `lat` matrices have each pixel cooridnates of the entire dataset."
   ]
  },
  {
   "cell_type": "code",
   "execution_count": null,
   "metadata": {
    "executionInfo": {
     "elapsed": 1,
     "status": "ok",
     "timestamp": 1744857956082,
     "user": {
      "displayName": "Thanh Son Pham",
      "userId": "17941529104681711853"
     },
     "user_tz": -420
    },
    "id": "RjXr0g7SjaaU"
   },
   "outputs": [],
   "source": [
    "import numpy as np\n",
    "\n",
    "def read_tiff_data(fname, with_coordinates=False, decimate=4):\n",
    "    '''\n",
    "    Read a GeoTIFF file and return the data as a numpy array.\n",
    "    If with_coordinates is True, return the coordinates as well.\n",
    "    '''\n",
    "    # check if the file exists\n",
    "    import rasterio\n",
    "    with rasterio.open(fname) as src: # open the tiff file\n",
    "        # read the actual data from tiff file\n",
    "        img_data = src.read(1).astype(np.float32)[::decimate, ::decimate] # read the first band of the tiff file\n",
    "        # set the no data value to NaN\n",
    "        img_data[img_data == src.nodata] = np.nan\n",
    "        if not with_coordinates: return img_data\n",
    "        # coordinate converter\n",
    "        from pyproj import Proj\n",
    "        proj = Proj(src.crs)\n",
    "        # create a grid of pixel coordinates in the original projection\n",
    "        x = np.linspace(src.bounds.left, src.bounds.right, src.shape[0], dtype=np.float32)[::decimate]\n",
    "        y = np.linspace(src.bounds.top, src.bounds.bottom, src.shape[1], dtype=np.float32)[::decimate]\n",
    "        # convert pixel coordinates to WGS84 lat/lon coordinates\n",
    "        lon, lat = proj(*np.meshgrid(x, y), inverse=True)\n",
    "        return lon, lat, img_data"
   ]
  },
  {
   "cell_type": "markdown",
   "metadata": {
    "id": "iLf6XzUAjaaU"
   },
   "source": [
    "We now read the surface elevation of Antarctic ice sheet from Bedmap2 dataset and plot it as map background."
   ]
  },
  {
   "cell_type": "code",
   "execution_count": null,
   "metadata": {
    "colab": {
     "base_uri": "https://localhost:8080/",
     "height": 461
    },
    "executionInfo": {
     "elapsed": 8104,
     "status": "ok",
     "timestamp": 1744857964187,
     "user": {
      "displayName": "Thanh Son Pham",
      "userId": "17941529104681711853"
     },
     "user_tz": -420
    },
    "id": "TzY4SjOdjaaU",
    "outputId": "513cb987-a1e3-4c51-9e12-ea52c5a9d1fc"
   },
   "outputs": [],
   "source": [
    "## Read the Bedmap2 surface elevation data\n",
    "fig, ax = plt.subplots()\n",
    "lon, lat, img_data = read_tiff_data('bedmap2_datasets/bedmap2_surface.tif', with_coordinates=True)\n",
    "## Create a map of the Antarctic region at low resolution.\n",
    "m = Basemap(projection='spstere', boundinglat=-60, lon_0=180, resolution='c')\n",
    "## Plot the Bedmap2 surface elevation data\n",
    "mapple = m.pcolormesh(lon, lat, img_data, vmin=0, vmax=4500, cmap='cividis', latlon=True)\n",
    "## Add a colorbar as figure inset\n",
    "cax = ax.inset_axes([0.07, 0.9, 0.4, 0.03]) # [left, bottom, width, height]\n",
    "cbar = fig.colorbar(mapple, cax=cax, orientation='horizontal')\n",
    "cbar.set_label('Surface elevation (m)')\n",
    "\n",
    "## Plot the location of the stations in the inventory\n",
    "for net in inv:\n",
    "    # Collect station geographical coordinates\n",
    "    stla = [sta.latitude for sta in net]\n",
    "    stlo = [sta.longitude for sta in net]\n",
    "    # Check if the network is in the list of major networks\n",
    "    for ii, network in enumerate(networks):\n",
    "        if f\"({network})\" in net.description:\n",
    "            m.plot(stlo, stla, markers[ii], latlon=True, mec='k', mew=0.2,\n",
    "                    label=f\"{network} ({net.start_date.year}$-${net.end_date.year})\")\n",
    "            break\n",
    "## Add a legend outside the plot area\n",
    "handles, labels = plt.gca().get_legend_handles_labels()\n",
    "by_label = dict(zip(labels, handles))\n",
    "plt.legend(by_label.values(), by_label.keys(), loc='lower left', fontsize='x-small')\n",
    "\n",
    "## Show the map\n",
    "plt.show()"
   ]
  },
  {
   "cell_type": "markdown",
   "metadata": {
    "id": "eLlRx2XpjaaU"
   },
   "source": [
    "---\n",
    "## Multiple panels maps\n",
    "\n",
    "The previous maps have been plotted on dividual figures, however, they can be merged together to create a multi-panel figure, often used in publication."
   ]
  },
  {
   "cell_type": "code",
   "execution_count": null,
   "metadata": {
    "colab": {
     "base_uri": "https://localhost:8080/",
     "height": 929
    },
    "executionInfo": {
     "elapsed": 11764,
     "status": "ok",
     "timestamp": 1744857975953,
     "user": {
      "displayName": "Thanh Son Pham",
      "userId": "17941529104681711853"
     },
     "user_tz": -420
    },
    "id": "2RjZwPBHjaaV",
    "outputId": "fc145ec1-20f9-44b3-a4b0-43918c95f74f"
   },
   "outputs": [],
   "source": [
    "fig, ax = plt.subplots(2, 2, figsize=(8, 8), sharex=True, sharey=True)\n",
    "\n",
    "## Read the Bedmap2 surface elevation data\n",
    "lon, lat, img_data = read_tiff_data('bedmap2_datasets/bedmap2_surface.tif', with_coordinates=True)\n",
    "## Create a map of the Antarctic region at low resolution, `ax[0, 0]` is insisted to hold the first plot\n",
    "m = Basemap(projection='spstere', boundinglat=-60, lon_0=180, resolution='c', ax=ax[0, 0])\n",
    "## Plot the Bedmap2 surface elevation data\n",
    "mapple = m.pcolormesh(lon, lat, img_data, cmap='cividis', latlon=True)\n",
    "## Add a colorbar as figure inset\n",
    "cax = ax[0, 0].inset_axes([0.07, 0.9, 0.4, 0.03]) # [left, bottom, width, height]\n",
    "cbar = fig.colorbar(mapple, cax=cax, orientation='horizontal')\n",
    "cbar.set_label('Surface elevation (m)')\n",
    "\n",
    "## Read the Bedmap2 ice thickness data\n",
    "img_data = read_tiff_data('bedmap2_datasets/bedmap2_thickness.tif', with_coordinates=False)\n",
    "## Create a map of the Antarctic region at low resolution, `ax[0, 1]` is insisted to hold the second plot\n",
    "m = Basemap(projection='spstere', boundinglat=-60, lon_0=180, resolution='c', ax=ax[0, 1])\n",
    "## Plot the Bedmap2 ice thickness data\n",
    "mapple = m.pcolormesh(lon, lat, img_data, cmap='copper', latlon=True)\n",
    "## Add a colorbar as figure inset\n",
    "cax = ax[0, 1].inset_axes([0.07, 0.9, 0.4, 0.03]) # [left, bottom, width, height]\n",
    "cbar = fig.colorbar(mapple, cax=cax, orientation='horizontal')\n",
    "cbar.set_label('Ice thickness (m)')\n",
    "\n",
    "## Read the Bedmap2 bed elevation data\n",
    "img_data = read_tiff_data('bedmap2_datasets/bedmap2_bed.tif', with_coordinates=False)\n",
    "## Create a map of the Antarctic region at low resolution, `ax[1, 0]` is insisted to hold the third plot\n",
    "m = Basemap(projection='spstere', boundinglat=-60, lon_0=180, resolution='l', ax=ax[1, 0])\n",
    "## Plot the Bedmap2 bed elevation data\n",
    "mapple = m.pcolormesh(lon, lat, img_data, cmap='viridis', latlon=True)\n",
    "m.drawcoastlines()\n",
    "## Add a colorbar as figure inset\n",
    "cax = ax[1, 0].inset_axes([0.07, 0.9, 0.4, 0.03]) # [left, bottom, width, height]\n",
    "cbar = fig.colorbar(mapple, cax=cax, orientation='horizontal')\n",
    "cbar.set_label('Bed elevation (m)')\n",
    "\n",
    "## Plot the location of the stations in the inventory\n",
    "m = Basemap(projection='spstere', boundinglat=-60, lon_0=180, resolution='l', ax=ax[1, 1])\n",
    "m.drawcoastlines()\n",
    "for net in inv:\n",
    "    # Collect station geographical coordinates\n",
    "    stla = [sta.latitude for sta in net]\n",
    "    stlo = [sta.longitude for sta in net]\n",
    "    # Check if the network is in the list of major networks\n",
    "    for ii, network in enumerate(networks):\n",
    "        if f\"({network})\" in net.description:\n",
    "            m.plot(stlo, stla, markers[ii], latlon=True, mec='k', mew=0.2,\n",
    "                    label=f\"{network} ({net.start_date.year}$-${net.end_date.year})\")\n",
    "            break\n",
    "## Add a legend outside the plot area\n",
    "handles, labels = plt.gca().get_legend_handles_labels()\n",
    "by_label = dict(zip(labels, handles))\n",
    "plt.legend(by_label.values(), by_label.keys(), loc='lower left', fontsize='x-small')\n",
    "\n",
    "## Set the title for each subplot\n",
    "ax[0, 0].set_title('Surface elevation')\n",
    "ax[0, 1].set_title('Ice thickness')\n",
    "ax[1, 0].set_title('Bed elevation')\n",
    "ax[1, 1].set_title('Station locations')\n",
    "\n",
    "fig.tight_layout()\n",
    "plt.show()"
   ]
  },
  {
   "cell_type": "markdown",
   "metadata": {
    "id": "fpx20AUQjaaV"
   },
   "source": [
    "---\n",
    "## Suggestion for more activity\n",
    "If you have completed all exersises and still feeling unstatisfied, why not experimenting with different colormaps from the matplotlib [library](https://matplotlib.org/stable/users/explain/colors/colormaps.html) for each sub-panel.\n",
    "\n",
    "If you still have more time, let's write a piece of code to get the pixeled ice thickness, surface and bedrock elevation for a given (lon, lat) coordinates. This will become handy when we proceed to Module 4."
   ]
  },
  {
   "cell_type": "markdown",
   "metadata": {
    "id": "gKNoohLhjaaV"
   },
   "source": [
    "---\n",
    "## Conclusions\n",
    "- If you have reached to this point, I hope you have strengthened your skills in making digital maps and visualise scientific data.\n",
    "\n",
    "- I hope by mastering the data visualization skills, you will be more comfortable working with real data in future."
   ]
  }
 ],
 "metadata": {
  "colab": {
   "provenance": []
  },
  "kernelspec": {
   "display_name": "emcee",
   "language": "python",
   "name": "python3"
  },
  "language_info": {
   "codemirror_mode": {
    "name": "ipython",
    "version": 3
   },
   "file_extension": ".py",
   "mimetype": "text/x-python",
   "name": "python",
   "nbconvert_exporter": "python",
   "pygments_lexer": "ipython3",
   "version": "3.11.7"
  }
 },
 "nbformat": 4,
 "nbformat_minor": 0
}
